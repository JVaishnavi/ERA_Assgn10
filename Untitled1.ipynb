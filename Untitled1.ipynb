{
  "cells": [
    {
      "cell_type": "code",
      "execution_count": null,
      "metadata": {
        "id": "cgYMcLbQc5HA"
      },
      "outputs": [],
      "source": [
        "#!/usr/bin/env python3\n",
        "# -*- coding: utf-8 -*-\n",
        "\"\"\"\n",
        "Created on Thu Jul 13 23:01:03 2023\n",
        "\n",
        "@author: vaishnavijanakiraman\n",
        "\"\"\"\n",
        "\n",
        "\n",
        "import torch\n",
        "import torch.nn as nn\n",
        "import torch.nn.functional as F\n",
        "\n",
        "class ResNetCustom(nn.Module):\n",
        "    def __init__(self):\n",
        "        super(ResNetCustom, self).__init__()\n",
        "\n",
        "        #Prep layer\n",
        "\n",
        "        self.prep_layer = nn.Sequential(\n",
        "            nn.Conv2d(in_channels=3, out_channels=64, kernel_size=(3, 3), stride=1, padding=1, bias=False),\n",
        "            nn.BatchNorm2d(64),\n",
        "            nn.ReLU())\n",
        "\n",
        "        #Layer 1\n",
        "\n",
        "        self.conv1 = nn.Sequential(\n",
        "            nn.Conv2d(in_channels=64, out_channels=128, kernel_size=(3, 3), stride=1, padding=1, bias=False),\n",
        "            nn.MaxPool2d(2, 2),\n",
        "            nn.BatchNorm2d(128),\n",
        "            nn.ReLU())\n",
        "\n",
        "        self.res1 = nn.Sequential(\n",
        "            nn.Conv2d(in_channels=128, out_channels=128, kernel_size=(3,3), stride=1, padding=1, bias=False),\n",
        "            nn.BatchNorm2d(128),\n",
        "            nn.ReLU(),\n",
        "\n",
        "            nn.Conv2d(in_channels=128, out_channels=128, kernel_size=(3,3), stride=1, padding=1, bias=False),\n",
        "            nn.BatchNorm2d(128),\n",
        "            nn.ReLU()\n",
        "            )\n",
        "\n",
        "        #Layer 2\n",
        "\n",
        "        self.conv2 = nn.Sequential(\n",
        "            nn.Conv2d(in_channels=128, out_channels=256, kernel_size=(3, 3), stride=1, padding=1, bias=False),\n",
        "            nn.MaxPool2d(2, 2),\n",
        "            nn.BatchNorm2d(256),\n",
        "            nn.ReLU())\n",
        "\n",
        "        #Layer 3\n",
        "\n",
        "        self.conv3 = nn.Sequential(\n",
        "            nn.Conv2d(in_channels=256, out_channels=512, kernel_size=(3, 3), stride=1, padding=1, bias=False),\n",
        "            nn.MaxPool2d(2, 2),\n",
        "            nn.BatchNorm2d(512),\n",
        "            nn.ReLU())\n",
        "\n",
        "        self.res2 = nn.Sequential(\n",
        "            nn.Conv2d(in_channels=512, out_channels=512, kernel_size=(3,3), stride=1, padding=1, bias=False),\n",
        "            nn.BatchNorm2d(512),\n",
        "            nn.ReLU(),\n",
        "\n",
        "            nn.Conv2d(in_channels=512, out_channels=512, kernel_size=(3,3), stride=1, padding=1, bias=False),\n",
        "            nn.BatchNorm2d(512),\n",
        "            nn.ReLU()\n",
        "            )\n",
        "        self.mp2 = nn.MaxPool2d(4, 4)\n",
        "        self.output_linear = nn.Linear(512, 10, bias=False)\n",
        "\n",
        "    def forward(self, x):\n",
        "        x = self.prep_layer(x)\n",
        "        x = self.conv1(x)\n",
        "        x = x + self.res1(x)\n",
        "        x = self.conv2(x)\n",
        "        x = self.conv3(x)\n",
        "        x = x + self.res2(x)\n",
        "        x = self.mp2(x)\n",
        "        x = x.squeeze()\n",
        "        x = self.output_linear(x)\n",
        "        return F.log_softmax(x, dim=-1)"
      ]
    },
    {
      "cell_type": "code",
      "execution_count": null,
      "metadata": {
        "id": "eL7n-LhQc5xn"
      },
      "outputs": [],
      "source": [
        "#!/usr/bin/env python3\n",
        "# -*- coding: utf-8 -*-\n",
        "\"\"\"\n",
        "Created on Fri Jun 23 10:03:15 2023\n",
        "\n",
        "@author: vaishnavijanakiraman\n",
        "\"\"\"\n",
        "\n",
        "\n",
        "import torch\n",
        "import matplotlib.pyplot as plt\n",
        "\n",
        "cuda = torch.cuda.is_available()\n",
        "device = torch.device(\"cuda\" if torch.cuda.is_available() else \"cpu\")\n",
        "\n",
        "#Function to calculate correct prediction counts\n",
        "\n",
        "from tqdm import tqdm\n",
        "def GetCorrectPredCount(pPrediction, pLabels):\n",
        "    return pPrediction.argmax(dim=1).eq(pLabels).sum().item()\n",
        "\n",
        "\n",
        "#Function to train the model and return training losses\n",
        "\n",
        "def train(model, device, train_loader, optimizer,train_criterion):\n",
        "\n",
        "    model.train()\n",
        "    pbar = tqdm(train_loader)\n",
        "\n",
        "    train_loss = 0\n",
        "    correct = 0\n",
        "    processed = 0\n",
        "\n",
        "    for batch_idx, (data, target) in enumerate(pbar):\n",
        "        data, target = data.to(device), target.to(device)\n",
        "        optimizer.zero_grad()\n",
        "\n",
        "        # Predict\n",
        "        pred = model(data)\n",
        "\n",
        "        # Calculate loss\n",
        "        loss = train_criterion(pred, target)\n",
        "        train_loss+=loss.item()\n",
        "\n",
        "        # Backpropagation\n",
        "        loss.backward()\n",
        "        optimizer.step()\n",
        "\n",
        "        correct += GetCorrectPredCount(pred, target)\n",
        "        processed += len(data)\n",
        "\n",
        "        pbar.set_description(desc= f'Train: Loss={loss.item():0.4f} Batch_id={batch_idx} Accuracy={100*correct/processed:0.2f}')\n",
        "\n",
        "    return 100. * correct / processed, train_loss\n",
        "\n",
        "# Function to test the model and return test losses\n",
        "\n",
        "def test(model, device, test_loader, test_criterion):\n",
        "\n",
        "\n",
        "    model.eval()\n",
        "\n",
        "    test_loss = 0\n",
        "    correct = 0\n",
        "\n",
        "    with torch.no_grad():\n",
        "        for batch_idx, (data, target) in enumerate(test_loader):\n",
        "            data, target = data.to(device), target.to(device)\n",
        "\n",
        "            output = model(data)\n",
        "            test_loss += test_criterion(output, target).item()*len(target)  # sum up batch loss\n",
        "\n",
        "            correct += GetCorrectPredCount(output, target)\n",
        "\n",
        "\n",
        "    test_loss /= len(test_loader.dataset)\n",
        "\n",
        "\n",
        "    print('Test set: Average loss: {:.4f}, Accuracy: {}/{} ({:.2f}%)\\n'.format(\n",
        "        test_loss, correct, len(test_loader.dataset),\n",
        "        100. * correct / len(test_loader.dataset)))\n",
        "\n",
        "    return 100. * correct / len(test_loader.dataset), test_loss\n",
        "\n",
        "\n",
        "#Function to plot the charts (Accuracy vs epochs)\n",
        "\n",
        "def plot_loss(train_losses, train_acc, test_losses, test_acc):\n",
        "    fig, axs = plt.subplots(2,2,figsize=(15,10))\n",
        "    axs[0, 0].plot(train_losses)\n",
        "    axs[0, 0].set_title(\"Training Loss\")\n",
        "    axs[1, 0].plot(train_acc)\n",
        "    axs[1, 0].set_title(\"Training Accuracy\")\n",
        "    axs[0, 1].plot(test_losses)\n",
        "    axs[0, 1].set_title(\"Test Loss\")\n",
        "    axs[1, 1].plot(test_acc)\n",
        "    axs[1, 1].set_title(\"Test Accuracy\")\n",
        "\n",
        "#Function to get sumary of the neural net\n",
        "\n",
        "from torchsummary import summary\n",
        "\n",
        "def get_summary(Net):\n",
        "    use_cuda = torch.cuda.is_available()\n",
        "    device = torch.device(\"cuda\" if use_cuda else \"cpu\")\n",
        "    model = Net().to(device)\n",
        "    summary(model, input_size=(3, 32, 32))\n",
        "    return summary\n"
      ]
    },
    {
      "cell_type": "code",
      "execution_count": null,
      "metadata": {
        "id": "LqWRRlC9c7x7"
      },
      "outputs": [],
      "source": [
        "#!/usr/bin/env python3\n",
        "# -*- coding: utf-8 -*-\n",
        "\"\"\"\n",
        "Created on Thu Jul 13 23:19:45 2023\n",
        "\n",
        "@author: vaishnavijanakiraman\n",
        "\"\"\"\n",
        "\n",
        "from torchvision import datasets\n",
        "\n",
        "class CIFAR10_ds(datasets.CIFAR10):\n",
        "    def __init__(self, root=\".\", train=True, download=True, transform= None):\n",
        "        super().__init__(root=root, train=train, download=download, transform=transform)\n",
        "        self.transform = transform\n",
        "\n",
        "    def __getitem__(self, idx):\n",
        "        image, label = self.data[idx], self.targets[idx]\n",
        "\n",
        "        if self.transform is not None:\n",
        "            transformed = self.transform(image=image)\n",
        "            image = transformed[\"image\"]\n",
        "\n",
        "        return image, label"
      ]
    },
    {
      "cell_type": "code",
      "execution_count": null,
      "metadata": {
        "id": "M-bUH-7Bc-E3"
      },
      "outputs": [],
      "source": [
        "#!/usr/bin/env python3\n",
        "# -*- coding: utf-8 -*-\n",
        "\"\"\"\n",
        "Created on Thu Jul 13 23:20:45 2023\n",
        "\n",
        "@author: vaishnavijanakiraman\n",
        "\"\"\"\n",
        "\n",
        "import albumentations as A\n",
        "from albumentations.pytorch import ToTensorV2\n",
        "\n",
        "train_transforms = A.Compose(\n",
        "    [\n",
        "        A.PadIfNeeded(min_height=40, min_width=40),\n",
        "        A.RandomCrop(height=32, width=32),\n",
        "        A.HorizontalFlip(),\n",
        "        A.CoarseDropout(max_holes=1, max_height=8, max_width=8,\n",
        "                        min_holes=1, min_height=8, min_width=8,\n",
        "                        fill_value=(0.4914, 0.4822, 0.4465)),\n",
        "        A.Normalize(mean=(0.4914, 0.4822, 0.4465), std=(0.247, 0.243, 0.261)),\n",
        "        ToTensorV2(),\n",
        "    ]\n",
        ")\n",
        "\n",
        "test_transforms = A.Compose([\n",
        "    A.Normalize(mean=(0.4914, 0.4822, 0.4465), std=(0.247, 0.243, 0.261)),\n",
        "    ToTensorV2()\n",
        "])"
      ]
    },
    {
      "cell_type": "code",
      "execution_count": 37,
      "metadata": {
        "id": "xhHQcgAkc_-l"
      },
      "outputs": [],
      "source": [
        "import torch\n",
        "import numpy as np\n",
        "import torch.optim as optim\n",
        "from torchvision import datasets, transforms\n",
        "from torchvision.utils import make_grid"
      ]
    },
    {
      "cell_type": "code",
      "execution_count": 38,
      "metadata": {
        "colab": {
          "base_uri": "https://localhost:8080/"
        },
        "id": "UcBFptbedE1q",
        "outputId": "6e595b75-135d-456e-dad7-2838f4b75575"
      },
      "outputs": [
        {
          "output_type": "stream",
          "name": "stdout",
          "text": [
            "Files already downloaded and verified\n",
            "Files already downloaded and verified\n"
          ]
        }
      ],
      "source": [
        "train_data = CIFAR10_ds(root=\".\", train=True, download=True, transform=train_transforms)\n",
        "test_data = CIFAR10_ds(root=\".\", train=False, download=True, transform=test_transforms)"
      ]
    },
    {
      "cell_type": "code",
      "execution_count": 39,
      "metadata": {
        "id": "rl3ISkaZdGpn"
      },
      "outputs": [],
      "source": [
        "batch_size = 512\n",
        "\n",
        "kwargs = dict(shuffle=True, batch_size=batch_size)\n",
        "\n",
        "train_loader = torch.utils.data.DataLoader(train_data, **kwargs)\n",
        "test_loader = torch.utils.data.DataLoader(test_data, **kwargs)"
      ]
    },
    {
      "cell_type": "code",
      "execution_count": 40,
      "metadata": {
        "colab": {
          "base_uri": "https://localhost:8080/"
        },
        "id": "Ss84AMMbdJSC",
        "outputId": "1f115662-394c-48b9-e6a3-72d21ac35a2d"
      },
      "outputs": [
        {
          "output_type": "stream",
          "name": "stdout",
          "text": [
            "----------------------------------------------------------------\n",
            "        Layer (type)               Output Shape         Param #\n",
            "================================================================\n",
            "            Conv2d-1           [-1, 64, 32, 32]           1,728\n",
            "       BatchNorm2d-2           [-1, 64, 32, 32]             128\n",
            "              ReLU-3           [-1, 64, 32, 32]               0\n",
            "            Conv2d-4          [-1, 128, 32, 32]          73,728\n",
            "         MaxPool2d-5          [-1, 128, 16, 16]               0\n",
            "       BatchNorm2d-6          [-1, 128, 16, 16]             256\n",
            "              ReLU-7          [-1, 128, 16, 16]               0\n",
            "            Conv2d-8          [-1, 128, 16, 16]         147,456\n",
            "       BatchNorm2d-9          [-1, 128, 16, 16]             256\n",
            "             ReLU-10          [-1, 128, 16, 16]               0\n",
            "           Conv2d-11          [-1, 128, 16, 16]         147,456\n",
            "      BatchNorm2d-12          [-1, 128, 16, 16]             256\n",
            "             ReLU-13          [-1, 128, 16, 16]               0\n",
            "           Conv2d-14          [-1, 256, 16, 16]         294,912\n",
            "        MaxPool2d-15            [-1, 256, 8, 8]               0\n",
            "      BatchNorm2d-16            [-1, 256, 8, 8]             512\n",
            "             ReLU-17            [-1, 256, 8, 8]               0\n",
            "           Conv2d-18            [-1, 512, 8, 8]       1,179,648\n",
            "        MaxPool2d-19            [-1, 512, 4, 4]               0\n",
            "      BatchNorm2d-20            [-1, 512, 4, 4]           1,024\n",
            "             ReLU-21            [-1, 512, 4, 4]               0\n",
            "           Conv2d-22            [-1, 512, 4, 4]       2,359,296\n",
            "      BatchNorm2d-23            [-1, 512, 4, 4]           1,024\n",
            "             ReLU-24            [-1, 512, 4, 4]               0\n",
            "           Conv2d-25            [-1, 512, 4, 4]       2,359,296\n",
            "      BatchNorm2d-26            [-1, 512, 4, 4]           1,024\n",
            "             ReLU-27            [-1, 512, 4, 4]               0\n",
            "        MaxPool2d-28            [-1, 512, 1, 1]               0\n",
            "           Linear-29                   [-1, 10]           5,120\n",
            "================================================================\n",
            "Total params: 6,573,120\n",
            "Trainable params: 6,573,120\n",
            "Non-trainable params: 0\n",
            "----------------------------------------------------------------\n",
            "Input size (MB): 0.01\n",
            "Forward/backward pass size (MB): 6.44\n",
            "Params size (MB): 25.07\n",
            "Estimated Total Size (MB): 31.53\n",
            "----------------------------------------------------------------\n"
          ]
        },
        {
          "output_type": "execute_result",
          "data": {
            "text/plain": [
              "<function torchsummary.torchsummary.summary(model, input_size, batch_size=-1, device='cuda')>"
            ]
          },
          "metadata": {},
          "execution_count": 40
        }
      ],
      "source": [
        "get_summary(ResNetCustom)"
      ]
    },
    {
      "cell_type": "code",
      "execution_count": 41,
      "metadata": {
        "id": "0gF3mqBAdMRZ"
      },
      "outputs": [],
      "source": [
        "train_losses = []\n",
        "test_losses = []\n",
        "train_acc = []\n",
        "test_acc = []\n",
        "\n",
        "test_incorrect_pred = {'images': [], 'ground_truths': [], 'predicted_vals': []}"
      ]
    },
    {
      "cell_type": "code",
      "execution_count": 42,
      "metadata": {
        "id": "bI8lFgNEenXN"
      },
      "outputs": [],
      "source": [
        "use_cuda = torch.cuda.is_available()\n",
        "device = torch.device(\"cuda\" if use_cuda else \"cpu\")"
      ]
    },
    {
      "cell_type": "code",
      "execution_count": 43,
      "metadata": {
        "id": "dq0RJhvadOqo"
      },
      "outputs": [],
      "source": [
        "model = ResNetCustom().to(device)\n",
        "optimizer = optim.Adam(model.parameters(), lr=0.03, weight_decay=1e-4)\n",
        "criterion = nn.CrossEntropyLoss(reduction=\"sum\")"
      ]
    },
    {
      "cell_type": "code",
      "execution_count": 35,
      "metadata": {
        "colab": {
          "base_uri": "https://localhost:8080/"
        },
        "id": "M9YvVqEddqlR",
        "outputId": "06076dfc-fc32-44dd-edb7-fafc33bc2b74"
      },
      "outputs": [
        {
          "output_type": "execute_result",
          "data": {
            "text/plain": [
              "True"
            ]
          },
          "metadata": {},
          "execution_count": 35
        }
      ],
      "source": [
        "use_cuda = torch.cuda.is_available()\n",
        "device = torch.device(\"cuda\" if use_cuda else \"cpu\")\n",
        "use_cuda"
      ]
    },
    {
      "cell_type": "code",
      "execution_count": 31,
      "metadata": {
        "colab": {
          "base_uri": "https://localhost:8080/"
        },
        "id": "tNQqmZ8An4JV",
        "outputId": "ef4e67d5-7b00-4a4b-875f-8963ac7943ea"
      },
      "outputs": [
        {
          "output_type": "stream",
          "name": "stdout",
          "text": [
            "Requirement already satisfied: torch_lr_finder in /usr/local/lib/python3.10/dist-packages (0.2.1)\n",
            "Requirement already satisfied: matplotlib in /usr/local/lib/python3.10/dist-packages (from torch_lr_finder) (3.7.1)\n",
            "Requirement already satisfied: numpy in /usr/local/lib/python3.10/dist-packages (from torch_lr_finder) (1.22.4)\n",
            "Requirement already satisfied: torch>=0.4.1 in /usr/local/lib/python3.10/dist-packages (from torch_lr_finder) (2.0.1+cu118)\n",
            "Requirement already satisfied: tqdm in /usr/local/lib/python3.10/dist-packages (from torch_lr_finder) (4.65.0)\n",
            "Requirement already satisfied: packaging in /usr/local/lib/python3.10/dist-packages (from torch_lr_finder) (23.1)\n",
            "Requirement already satisfied: filelock in /usr/local/lib/python3.10/dist-packages (from torch>=0.4.1->torch_lr_finder) (3.12.2)\n",
            "Requirement already satisfied: typing-extensions in /usr/local/lib/python3.10/dist-packages (from torch>=0.4.1->torch_lr_finder) (4.7.1)\n",
            "Requirement already satisfied: sympy in /usr/local/lib/python3.10/dist-packages (from torch>=0.4.1->torch_lr_finder) (1.11.1)\n",
            "Requirement already satisfied: networkx in /usr/local/lib/python3.10/dist-packages (from torch>=0.4.1->torch_lr_finder) (3.1)\n",
            "Requirement already satisfied: jinja2 in /usr/local/lib/python3.10/dist-packages (from torch>=0.4.1->torch_lr_finder) (3.1.2)\n",
            "Requirement already satisfied: triton==2.0.0 in /usr/local/lib/python3.10/dist-packages (from torch>=0.4.1->torch_lr_finder) (2.0.0)\n",
            "Requirement already satisfied: cmake in /usr/local/lib/python3.10/dist-packages (from triton==2.0.0->torch>=0.4.1->torch_lr_finder) (3.25.2)\n",
            "Requirement already satisfied: lit in /usr/local/lib/python3.10/dist-packages (from triton==2.0.0->torch>=0.4.1->torch_lr_finder) (16.0.6)\n",
            "Requirement already satisfied: contourpy>=1.0.1 in /usr/local/lib/python3.10/dist-packages (from matplotlib->torch_lr_finder) (1.1.0)\n",
            "Requirement already satisfied: cycler>=0.10 in /usr/local/lib/python3.10/dist-packages (from matplotlib->torch_lr_finder) (0.11.0)\n",
            "Requirement already satisfied: fonttools>=4.22.0 in /usr/local/lib/python3.10/dist-packages (from matplotlib->torch_lr_finder) (4.40.0)\n",
            "Requirement already satisfied: kiwisolver>=1.0.1 in /usr/local/lib/python3.10/dist-packages (from matplotlib->torch_lr_finder) (1.4.4)\n",
            "Requirement already satisfied: pillow>=6.2.0 in /usr/local/lib/python3.10/dist-packages (from matplotlib->torch_lr_finder) (8.4.0)\n",
            "Requirement already satisfied: pyparsing>=2.3.1 in /usr/local/lib/python3.10/dist-packages (from matplotlib->torch_lr_finder) (3.1.0)\n",
            "Requirement already satisfied: python-dateutil>=2.7 in /usr/local/lib/python3.10/dist-packages (from matplotlib->torch_lr_finder) (2.8.2)\n",
            "Requirement already satisfied: six>=1.5 in /usr/local/lib/python3.10/dist-packages (from python-dateutil>=2.7->matplotlib->torch_lr_finder) (1.16.0)\n",
            "Requirement already satisfied: MarkupSafe>=2.0 in /usr/local/lib/python3.10/dist-packages (from jinja2->torch>=0.4.1->torch_lr_finder) (2.1.3)\n",
            "Requirement already satisfied: mpmath>=0.19 in /usr/local/lib/python3.10/dist-packages (from sympy->torch>=0.4.1->torch_lr_finder) (1.3.0)\n"
          ]
        }
      ],
      "source": [
        "!pip install torch_lr_finder\n",
        "\n",
        "from torch_lr_finder import LRFinder\n",
        "\n",
        "def find_lr(model,optimizer, criterion, device,train_loader):\n",
        "    lr_finder = LRFinder(model, optimizer, criterion, device=device)\n",
        "    lr_finder.range_test(\n",
        "        train_loader,\n",
        "        step_mode=\"exp\",\n",
        "        end_lr=10,\n",
        "        num_iter=200,\n",
        "    )\n",
        "    mx_lr = lr_finder.plot(suggest_lr=True, skip_start=0, skip_end=0)\n",
        "    lr_finder.reset()\n",
        "    return mx_lr\n"
      ]
    },
    {
      "cell_type": "code",
      "execution_count": null,
      "metadata": {
        "colab": {
          "base_uri": "https://localhost:8080/",
          "height": 563,
          "referenced_widgets": [
            "7ec703ac70104e67a0dba623b284b020",
            "f99977f4d3da4d53a43ecda5e82afaf4",
            "d8cf34de048e4558906d0b3e9a2885b8",
            "e0288ae0d4e04945a0999d0e4795d3d8",
            "d343c6094d79407f944e6a6b96432067",
            "761d92b9b05644df915bd17df4584731",
            "d92d95c40d68427dbb0811facdb99f9a",
            "83ad12f5482a4d97bd4e6f87717d63a3",
            "3a47e5ea16f04c0598795b3904481b4e",
            "5bc6669d4fcd42c39aecef1991a1265c",
            "f16178ed711744c3973c92085aef514e"
          ]
        },
        "id": "4UZkKspepHQZ",
        "outputId": "f0ce2a69-a495-4400-88e2-5ba06122c12a"
      },
      "outputs": [
        {
          "data": {
            "application/vnd.jupyter.widget-view+json": {
              "model_id": "7ec703ac70104e67a0dba623b284b020",
              "version_major": 2,
              "version_minor": 0
            },
            "text/plain": [
              "  0%|          | 0/200 [00:00<?, ?it/s]"
            ]
          },
          "metadata": {},
          "output_type": "display_data"
        },
        {
          "name": "stdout",
          "output_type": "stream",
          "text": [
            "Stopping early, the loss has diverged\n",
            "Learning rate search finished. See the graph with {finder_name}.plot()\n",
            "LR suggestion: steepest gradient\n",
            "Suggested LR: 5.87E-02\n"
          ]
        },
        {
          "data": {
            "image/png": "[encoded data removed]",
            "text/plain": [
              "<Figure size 640x480 with 1 Axes>"
            ]
          },
          "metadata": {},
          "output_type": "display_data"
        }
      ],
      "source": [
        "max_lr = find_lr(model, optimizer, criterion, device, train_loader\n",
        "                 )"
      ]
    },
    {
      "cell_type": "code",
      "execution_count": null,
      "metadata": {
        "id": "bumvFHostkn_"
      },
      "outputs": [],
      "source": []
    },
    {
      "cell_type": "code",
      "execution_count": 45,
      "metadata": {
        "colab": {
          "base_uri": "https://localhost:8080/"
        },
        "id": "QT-6Mtc5dRI3",
        "outputId": "580b010c-d00c-4ce5-b75b-862f690e7d82"
      },
      "outputs": [
        {
          "metadata": {
            "tags": null
          },
          "name": "stdout",
          "output_type": "stream",
          "text": [
            "Epoch 1\n"
          ]
        },
        {
          "metadata": {
            "tags": null
          },
          "name": "stderr",
          "output_type": "stream",
          "text": [
            "Train: Loss=380.1009 Batch_id=97 Accuracy=47.27: 100%|██████████| 98/98 [00:26<00:00,  3.69it/s]\n"
          ]
        },
        {
          "metadata": {
            "tags": null
          },
          "name": "stdout",
          "output_type": "stream",
          "text": [
            "Test set: Average loss: 550.9570, Accuracy: 6166/10000 (61.66%)\n",
            "\n",
            "Epoch 1: SGD lr 0.0006 -> 0.0007\n",
            "Epoch 2\n"
          ]
        },
        {
          "metadata": {
            "tags": null
          },
          "name": "stderr",
          "output_type": "stream",
          "text": [
            "Train: Loss=271.9645 Batch_id=97 Accuracy=65.97: 100%|██████████| 98/98 [00:26<00:00,  3.63it/s]\n"
          ]
        },
        {
          "metadata": {
            "tags": null
          },
          "name": "stdout",
          "output_type": "stream",
          "text": [
            "Test set: Average loss: 413.0094, Accuracy: 7133/10000 (71.33%)\n",
            "\n",
            "Epoch 2: SGD lr 0.0007 -> 0.0008\n",
            "Epoch 3\n"
          ]
        },
        {
          "metadata": {
            "tags": null
          },
          "name": "stderr",
          "output_type": "stream",
          "text": [
            "Train: Loss=224.1595 Batch_id=97 Accuracy=74.20: 100%|██████████| 98/98 [00:26<00:00,  3.71it/s]\n"
          ]
        },
        {
          "metadata": {
            "tags": null
          },
          "name": "stdout",
          "output_type": "stream",
          "text": [
            "Test set: Average loss: 348.9077, Accuracy: 7637/10000 (76.37%)\n",
            "\n",
            "Epoch 3: SGD lr 0.0008 -> 0.0009\n",
            "Epoch 4\n"
          ]
        },
        {
          "metadata": {
            "tags": null
          },
          "name": "stderr",
          "output_type": "stream",
          "text": [
            "Train: Loss=183.7402 Batch_id=97 Accuracy=79.21: 100%|██████████| 98/98 [00:26<00:00,  3.76it/s]\n"
          ]
        },
        {
          "metadata": {
            "tags": null
          },
          "name": "stdout",
          "output_type": "stream",
          "text": [
            "Test set: Average loss: 289.5596, Accuracy: 7998/10000 (79.98%)\n",
            "\n",
            "Epoch 4: SGD lr 0.0009 -> 0.0011\n",
            "Epoch 5\n"
          ]
        },
        {
          "metadata": {
            "tags": null
          },
          "name": "stderr",
          "output_type": "stream",
          "text": [
            "Train: Loss=180.6233 Batch_id=97 Accuracy=81.93: 100%|██████████| 98/98 [00:26<00:00,  3.72it/s]\n"
          ]
        },
        {
          "metadata": {
            "tags": null
          },
          "name": "stdout",
          "output_type": "stream",
          "text": [
            "Test set: Average loss: 261.3383, Accuracy: 8231/10000 (82.31%)\n",
            "\n",
            "Epoch 5: SGD lr 0.0011 -> 0.0012\n",
            "Epoch 6\n"
          ]
        },
        {
          "metadata": {
            "tags": null
          },
          "name": "stderr",
          "output_type": "stream",
          "text": [
            "Train: Loss=144.4363 Batch_id=97 Accuracy=84.01: 100%|██████████| 98/98 [00:26<00:00,  3.76it/s]\n"
          ]
        },
        {
          "metadata": {
            "tags": null
          },
          "name": "stdout",
          "output_type": "stream",
          "text": [
            "Test set: Average loss: 255.4988, Accuracy: 8244/10000 (82.44%)\n",
            "\n",
            "Epoch 6: SGD lr 0.0012 -> 0.0013\n",
            "Epoch 7\n"
          ]
        },
        {
          "metadata": {
            "tags": null
          },
          "name": "stderr",
          "output_type": "stream",
          "text": [
            "Train: Loss=120.2552 Batch_id=97 Accuracy=86.20: 100%|██████████| 98/98 [00:26<00:00,  3.72it/s]\n"
          ]
        },
        {
          "metadata": {
            "tags": null
          },
          "name": "stdout",
          "output_type": "stream",
          "text": [
            "Test set: Average loss: 238.8124, Accuracy: 8407/10000 (84.07%)\n",
            "\n",
            "Epoch 7: SGD lr 0.0013 -> 0.0014\n",
            "Epoch 8\n"
          ]
        },
        {
          "metadata": {
            "tags": null
          },
          "name": "stderr",
          "output_type": "stream",
          "text": [
            "Train: Loss=163.5605 Batch_id=97 Accuracy=86.72: 100%|██████████| 98/98 [00:26<00:00,  3.74it/s]\n"
          ]
        },
        {
          "metadata": {
            "tags": null
          },
          "name": "stdout",
          "output_type": "stream",
          "text": [
            "Test set: Average loss: 235.3560, Accuracy: 8400/10000 (84.00%)\n",
            "\n",
            "Epoch 8: SGD lr 0.0014 -> 0.0015\n",
            "Epoch 9\n"
          ]
        },
        {
          "metadata": {
            "tags": null
          },
          "name": "stderr",
          "output_type": "stream",
          "text": [
            "Train: Loss=155.2541 Batch_id=97 Accuracy=88.24: 100%|██████████| 98/98 [00:26<00:00,  3.73it/s]\n"
          ]
        },
        {
          "metadata": {
            "tags": null
          },
          "name": "stdout",
          "output_type": "stream",
          "text": [
            "Test set: Average loss: 203.8738, Accuracy: 8689/10000 (86.89%)\n",
            "\n",
            "Epoch 9: SGD lr 0.0015 -> 0.0017\n",
            "Epoch 10\n"
          ]
        },
        {
          "metadata": {
            "tags": null
          },
          "name": "stderr",
          "output_type": "stream",
          "text": [
            "Train: Loss=138.5095 Batch_id=97 Accuracy=89.06: 100%|██████████| 98/98 [00:26<00:00,  3.69it/s]\n"
          ]
        },
        {
          "metadata": {
            "tags": null
          },
          "name": "stdout",
          "output_type": "stream",
          "text": [
            "Test set: Average loss: 198.0250, Accuracy: 8678/10000 (86.78%)\n",
            "\n",
            "Epoch 10: SGD lr 0.0017 -> 0.0018\n",
            "Epoch 11\n"
          ]
        },
        {
          "metadata": {
            "tags": null
          },
          "name": "stderr",
          "output_type": "stream",
          "text": [
            "Train: Loss=103.7527 Batch_id=97 Accuracy=89.59: 100%|██████████| 98/98 [00:26<00:00,  3.67it/s]\n"
          ]
        },
        {
          "metadata": {
            "tags": null
          },
          "name": "stdout",
          "output_type": "stream",
          "text": [
            "Test set: Average loss: 206.5952, Accuracy: 8673/10000 (86.73%)\n",
            "\n",
            "Epoch 11: SGD lr 0.0018 -> 0.0019\n",
            "Epoch 12\n"
          ]
        },
        {
          "metadata": {
            "tags": null
          },
          "name": "stderr",
          "output_type": "stream",
          "text": [
            "Train: Loss=106.5349 Batch_id=97 Accuracy=90.10: 100%|██████████| 98/98 [00:26<00:00,  3.74it/s]\n"
          ]
        },
        {
          "metadata": {
            "tags": null
          },
          "name": "stdout",
          "output_type": "stream",
          "text": [
            "Test set: Average loss: 182.9754, Accuracy: 8816/10000 (88.16%)\n",
            "\n",
            "Epoch 12: SGD lr 0.0019 -> 0.0020\n",
            "Epoch 13\n"
          ]
        },
        {
          "metadata": {
            "tags": null
          },
          "name": "stderr",
          "output_type": "stream",
          "text": [
            "Train: Loss=107.6520 Batch_id=97 Accuracy=90.66: 100%|██████████| 98/98 [00:26<00:00,  3.73it/s]\n"
          ]
        },
        {
          "metadata": {
            "tags": null
          },
          "name": "stdout",
          "output_type": "stream",
          "text": [
            "Test set: Average loss: 207.9585, Accuracy: 8697/10000 (86.97%)\n",
            "\n",
            "Epoch 13: SGD lr 0.0020 -> 0.0021\n",
            "Epoch 14\n"
          ]
        },
        {
          "metadata": {
            "tags": null
          },
          "name": "stderr",
          "output_type": "stream",
          "text": [
            "Train: Loss=118.4544 Batch_id=97 Accuracy=91.08: 100%|██████████| 98/98 [00:26<00:00,  3.75it/s]\n"
          ]
        },
        {
          "metadata": {
            "tags": null
          },
          "name": "stdout",
          "output_type": "stream",
          "text": [
            "Test set: Average loss: 176.8915, Accuracy: 8876/10000 (88.76%)\n",
            "\n",
            "Epoch 14: SGD lr 0.0021 -> 0.0023\n",
            "Epoch 15\n"
          ]
        },
        {
          "metadata": {
            "tags": null
          },
          "name": "stderr",
          "output_type": "stream",
          "text": [
            "Train: Loss=70.2644 Batch_id=97 Accuracy=92.05: 100%|██████████| 98/98 [00:26<00:00,  3.74it/s]\n"
          ]
        },
        {
          "metadata": {
            "tags": null
          },
          "name": "stdout",
          "output_type": "stream",
          "text": [
            "Test set: Average loss: 180.1837, Accuracy: 8844/10000 (88.44%)\n",
            "\n",
            "Epoch 15: SGD lr 0.0023 -> 0.0024\n",
            "Epoch 16\n"
          ]
        },
        {
          "metadata": {
            "tags": null
          },
          "name": "stderr",
          "output_type": "stream",
          "text": [
            "Train: Loss=73.4798 Batch_id=97 Accuracy=92.08: 100%|██████████| 98/98 [00:26<00:00,  3.69it/s]\n"
          ]
        },
        {
          "metadata": {
            "tags": null
          },
          "name": "stdout",
          "output_type": "stream",
          "text": [
            "Test set: Average loss: 184.9039, Accuracy: 8831/10000 (88.31%)\n",
            "\n",
            "Epoch 16: SGD lr 0.0024 -> 0.0025\n",
            "Epoch 17\n"
          ]
        },
        {
          "metadata": {
            "tags": null
          },
          "name": "stderr",
          "output_type": "stream",
          "text": [
            "Train: Loss=100.1027 Batch_id=97 Accuracy=92.35: 100%|██████████| 98/98 [00:26<00:00,  3.72it/s]\n"
          ]
        },
        {
          "metadata": {
            "tags": null
          },
          "name": "stdout",
          "output_type": "stream",
          "text": [
            "Test set: Average loss: 175.2078, Accuracy: 8928/10000 (89.28%)\n",
            "\n",
            "Epoch 17: SGD lr 0.0025 -> 0.0026\n",
            "Epoch 18\n"
          ]
        },
        {
          "metadata": {
            "tags": null
          },
          "name": "stderr",
          "output_type": "stream",
          "text": [
            "Train: Loss=72.2520 Batch_id=97 Accuracy=93.16: 100%|██████████| 98/98 [00:26<00:00,  3.70it/s]\n"
          ]
        },
        {
          "metadata": {
            "tags": null
          },
          "name": "stdout",
          "output_type": "stream",
          "text": [
            "Test set: Average loss: 187.1157, Accuracy: 8878/10000 (88.78%)\n",
            "\n",
            "Epoch 18: SGD lr 0.0026 -> 0.0027\n",
            "Epoch 19\n"
          ]
        },
        {
          "metadata": {
            "tags": null
          },
          "name": "stderr",
          "output_type": "stream",
          "text": [
            "Train: Loss=72.2113 Batch_id=97 Accuracy=93.27: 100%|██████████| 98/98 [00:26<00:00,  3.74it/s]\n"
          ]
        },
        {
          "metadata": {
            "tags": null
          },
          "name": "stdout",
          "output_type": "stream",
          "text": [
            "Test set: Average loss: 159.9091, Accuracy: 8989/10000 (89.89%)\n",
            "\n",
            "Epoch 19: SGD lr 0.0027 -> 0.0028\n",
            "Epoch 20\n"
          ]
        },
        {
          "metadata": {
            "tags": null
          },
          "name": "stderr",
          "output_type": "stream",
          "text": [
            "Train: Loss=61.8199 Batch_id=97 Accuracy=93.65: 100%|██████████| 98/98 [00:26<00:00,  3.70it/s]\n"
          ]
        },
        {
          "metadata": {
            "tags": null
          },
          "name": "stdout",
          "output_type": "stream",
          "text": [
            "Test set: Average loss: 161.7173, Accuracy: 9017/10000 (90.17%)\n",
            "\n",
            "Epoch 20: SGD lr 0.0028 -> 0.0030\n",
            "Epoch 21\n"
          ]
        },
        {
          "metadata": {
            "tags": null
          },
          "name": "stderr",
          "output_type": "stream",
          "text": [
            "Train: Loss=47.7529 Batch_id=97 Accuracy=93.78: 100%|██████████| 98/98 [00:26<00:00,  3.73it/s]\n"
          ]
        },
        {
          "metadata": {
            "tags": null
          },
          "name": "stdout",
          "output_type": "stream",
          "text": [
            "Test set: Average loss: 197.8572, Accuracy: 8852/10000 (88.52%)\n",
            "\n",
            "Epoch 21: SGD lr 0.0030 -> 0.0031\n",
            "Epoch 22\n"
          ]
        },
        {
          "metadata": {
            "tags": null
          },
          "name": "stderr",
          "output_type": "stream",
          "text": [
            "Train: Loss=80.4850 Batch_id=97 Accuracy=93.66: 100%|██████████| 98/98 [00:26<00:00,  3.74it/s]\n"
          ]
        },
        {
          "metadata": {
            "tags": null
          },
          "name": "stdout",
          "output_type": "stream",
          "text": [
            "Test set: Average loss: 212.4776, Accuracy: 8861/10000 (88.61%)\n",
            "\n",
            "Epoch 22: SGD lr 0.0031 -> 0.0032\n",
            "Epoch 23\n"
          ]
        },
        {
          "output_type": "stream",
          "name": "stderr",
          "text": [
            "Train: Loss=66.8328 Batch_id=97 Accuracy=93.67: 100%|██████████| 98/98 [00:26<00:00,  3.70it/s]\n"
          ]
        },
        {
          "output_type": "stream",
          "name": "stdout",
          "text": [
            "Test set: Average loss: 180.4169, Accuracy: 8975/10000 (89.75%)\n",
            "\n",
            "Epoch 23: SGD lr 0.0032 -> 0.0033\n",
            "Epoch 24\n"
          ]
        },
        {
          "output_type": "stream",
          "name": "stderr",
          "text": [
            "Train: Loss=47.9625 Batch_id=97 Accuracy=94.35: 100%|██████████| 98/98 [00:26<00:00,  3.75it/s]\n"
          ]
        },
        {
          "output_type": "stream",
          "name": "stdout",
          "text": [
            "Test set: Average loss: 192.7640, Accuracy: 8933/10000 (89.33%)\n",
            "\n",
            "Epoch 24: SGD lr 0.0033 -> 0.0034\n"
          ]
        }
      ],
      "source": [
        "from torch.optim.lr_scheduler import OneCycleLR\n",
        "device = \"cuda\"\n",
        "num_epochs = 24\n",
        "\n",
        "scheduler = OneCycleLR(optimizer,\n",
        "        max_lr=5.87E-02,\n",
        "        steps_per_epoch=len(train_loader),\n",
        "        epochs=num_epochs,\n",
        "        pct_start=5/num_epochs,\n",
        "        div_factor=100,\n",
        "        three_phase=False,\n",
        "        final_div_factor=100,\n",
        "        anneal_strategy='linear'\n",
        "    )\n",
        "\n",
        "for epoch in range(1, num_epochs+1):\n",
        "    print(f'Epoch {epoch}')\n",
        "    train_acc_val, train_loss = train(model, device, train_loader, optimizer, criterion)\n",
        "    test_acc_val, test_loss = test(model, device, test_loader, criterion)\n",
        "\n",
        "    train_acc.append(train_acc_val) #Storing training loss for each epoch\n",
        "    train_losses.append(train_loss)\n",
        "    test_acc.append(test_acc_val) #Storing testing loss for each epoch\n",
        "    test_losses.append(test_loss)\n",
        "\n",
        "    before_lr = optimizer.param_groups[0][\"lr\"]\n",
        "    scheduler.step()\n",
        "    after_lr = optimizer.param_groups[0][\"lr\"]\n",
        "    print(\"Epoch %d: SGD lr %.4f -> %.4f\" % (epoch, before_lr, after_lr))"
      ]
    },
    {
      "cell_type": "code",
      "execution_count": null,
      "metadata": {
        "id": "gb9wk1HqdZqS"
      },
      "outputs": [],
      "source": []
    }
  ],
  "metadata": {
    "accelerator": "GPU",
    "colab": {
      "provenance": [],
      "toc_visible": true
    },
    "kernelspec": {
      "display_name": "Python 3",
      "name": "python3"
    },
    "language_info": {
      "name": "python"
    },
    "widgets": {
      "application/vnd.jupyter.widget-state+json": {
        "3a47e5ea16f04c0598795b3904481b4e": {
          "model_module": "@jupyter-widgets/controls",
          "model_module_version": "1.5.0",
          "model_name": "ProgressStyleModel",
          "state": {
            "_model_module": "@jupyter-widgets/controls",
            "_model_module_version": "1.5.0",
            "_model_name": "ProgressStyleModel",
            "_view_count": null,
            "_view_module": "@jupyter-widgets/base",
            "_view_module_version": "1.2.0",
            "_view_name": "StyleView",
            "bar_color": null,
            "description_width": ""
          }
        },
        "5bc6669d4fcd42c39aecef1991a1265c": {
          "model_module": "@jupyter-widgets/base",
          "model_module_version": "1.2.0",
          "model_name": "LayoutModel",
          "state": {
            "_model_module": "@jupyter-widgets/base",
            "_model_module_version": "1.2.0",
            "_model_name": "LayoutModel",
            "_view_count": null,
            "_view_module": "@jupyter-widgets/base",
            "_view_module_version": "1.2.0",
            "_view_name": "LayoutView",
            "align_content": null,
            "align_items": null,
            "align_self": null,
            "border": null,
            "bottom": null,
            "display": null,
            "flex": null,
            "flex_flow": null,
            "grid_area": null,
            "grid_auto_columns": null,
            "grid_auto_flow": null,
            "grid_auto_rows": null,
            "grid_column": null,
            "grid_gap": null,
            "grid_row": null,
            "grid_template_areas": null,
            "grid_template_columns": null,
            "grid_template_rows": null,
            "height": null,
            "justify_content": null,
            "justify_items": null,
            "left": null,
            "margin": null,
            "max_height": null,
            "max_width": null,
            "min_height": null,
            "min_width": null,
            "object_fit": null,
            "object_position": null,
            "order": null,
            "overflow": null,
            "overflow_x": null,
            "overflow_y": null,
            "padding": null,
            "right": null,
            "top": null,
            "visibility": null,
            "width": null
          }
        },
        "761d92b9b05644df915bd17df4584731": {
          "model_module": "@jupyter-widgets/base",
          "model_module_version": "1.2.0",
          "model_name": "LayoutModel",
          "state": {
            "_model_module": "@jupyter-widgets/base",
            "_model_module_version": "1.2.0",
            "_model_name": "LayoutModel",
            "_view_count": null,
            "_view_module": "@jupyter-widgets/base",
            "_view_module_version": "1.2.0",
            "_view_name": "LayoutView",
            "align_content": null,
            "align_items": null,
            "align_self": null,
            "border": null,
            "bottom": null,
            "display": null,
            "flex": null,
            "flex_flow": null,
            "grid_area": null,
            "grid_auto_columns": null,
            "grid_auto_flow": null,
            "grid_auto_rows": null,
            "grid_column": null,
            "grid_gap": null,
            "grid_row": null,
            "grid_template_areas": null,
            "grid_template_columns": null,
            "grid_template_rows": null,
            "height": null,
            "justify_content": null,
            "justify_items": null,
            "left": null,
            "margin": null,
            "max_height": null,
            "max_width": null,
            "min_height": null,
            "min_width": null,
            "object_fit": null,
            "object_position": null,
            "order": null,
            "overflow": null,
            "overflow_x": null,
            "overflow_y": null,
            "padding": null,
            "right": null,
            "top": null,
            "visibility": null,
            "width": null
          }
        },
        "7ec703ac70104e67a0dba623b284b020": {
          "model_module": "@jupyter-widgets/controls",
          "model_module_version": "1.5.0",
          "model_name": "HBoxModel",
          "state": {
            "_dom_classes": [],
            "_model_module": "@jupyter-widgets/controls",
            "_model_module_version": "1.5.0",
            "_model_name": "HBoxModel",
            "_view_count": null,
            "_view_module": "@jupyter-widgets/controls",
            "_view_module_version": "1.5.0",
            "_view_name": "HBoxView",
            "box_style": "",
            "children": [
              "IPY_MODEL_f99977f4d3da4d53a43ecda5e82afaf4",
              "IPY_MODEL_d8cf34de048e4558906d0b3e9a2885b8",
              "IPY_MODEL_e0288ae0d4e04945a0999d0e4795d3d8"
            ],
            "layout": "IPY_MODEL_d343c6094d79407f944e6a6b96432067"
          }
        },
        "83ad12f5482a4d97bd4e6f87717d63a3": {
          "model_module": "@jupyter-widgets/base",
          "model_module_version": "1.2.0",
          "model_name": "LayoutModel",
          "state": {
            "_model_module": "@jupyter-widgets/base",
            "_model_module_version": "1.2.0",
            "_model_name": "LayoutModel",
            "_view_count": null,
            "_view_module": "@jupyter-widgets/base",
            "_view_module_version": "1.2.0",
            "_view_name": "LayoutView",
            "align_content": null,
            "align_items": null,
            "align_self": null,
            "border": null,
            "bottom": null,
            "display": null,
            "flex": null,
            "flex_flow": null,
            "grid_area": null,
            "grid_auto_columns": null,
            "grid_auto_flow": null,
            "grid_auto_rows": null,
            "grid_column": null,
            "grid_gap": null,
            "grid_row": null,
            "grid_template_areas": null,
            "grid_template_columns": null,
            "grid_template_rows": null,
            "height": null,
            "justify_content": null,
            "justify_items": null,
            "left": null,
            "margin": null,
            "max_height": null,
            "max_width": null,
            "min_height": null,
            "min_width": null,
            "object_fit": null,
            "object_position": null,
            "order": null,
            "overflow": null,
            "overflow_x": null,
            "overflow_y": null,
            "padding": null,
            "right": null,
            "top": null,
            "visibility": null,
            "width": null
          }
        },
        "d343c6094d79407f944e6a6b96432067": {
          "model_module": "@jupyter-widgets/base",
          "model_module_version": "1.2.0",
          "model_name": "LayoutModel",
          "state": {
            "_model_module": "@jupyter-widgets/base",
            "_model_module_version": "1.2.0",
            "_model_name": "LayoutModel",
            "_view_count": null,
            "_view_module": "@jupyter-widgets/base",
            "_view_module_version": "1.2.0",
            "_view_name": "LayoutView",
            "align_content": null,
            "align_items": null,
            "align_self": null,
            "border": null,
            "bottom": null,
            "display": null,
            "flex": null,
            "flex_flow": null,
            "grid_area": null,
            "grid_auto_columns": null,
            "grid_auto_flow": null,
            "grid_auto_rows": null,
            "grid_column": null,
            "grid_gap": null,
            "grid_row": null,
            "grid_template_areas": null,
            "grid_template_columns": null,
            "grid_template_rows": null,
            "height": null,
            "justify_content": null,
            "justify_items": null,
            "left": null,
            "margin": null,
            "max_height": null,
            "max_width": null,
            "min_height": null,
            "min_width": null,
            "object_fit": null,
            "object_position": null,
            "order": null,
            "overflow": null,
            "overflow_x": null,
            "overflow_y": null,
            "padding": null,
            "right": null,
            "top": null,
            "visibility": null,
            "width": null
          }
        },
        "d8cf34de048e4558906d0b3e9a2885b8": {
          "model_module": "@jupyter-widgets/controls",
          "model_module_version": "1.5.0",
          "model_name": "FloatProgressModel",
          "state": {
            "_dom_classes": [],
            "_model_module": "@jupyter-widgets/controls",
            "_model_module_version": "1.5.0",
            "_model_name": "FloatProgressModel",
            "_view_count": null,
            "_view_module": "@jupyter-widgets/controls",
            "_view_module_version": "1.5.0",
            "_view_name": "ProgressView",
            "bar_style": "danger",
            "description": "",
            "description_tooltip": null,
            "layout": "IPY_MODEL_83ad12f5482a4d97bd4e6f87717d63a3",
            "max": 200,
            "min": 0,
            "orientation": "horizontal",
            "style": "IPY_MODEL_3a47e5ea16f04c0598795b3904481b4e",
            "value": 138
          }
        },
        "d92d95c40d68427dbb0811facdb99f9a": {
          "model_module": "@jupyter-widgets/controls",
          "model_module_version": "1.5.0",
          "model_name": "DescriptionStyleModel",
          "state": {
            "_model_module": "@jupyter-widgets/controls",
            "_model_module_version": "1.5.0",
            "_model_name": "DescriptionStyleModel",
            "_view_count": null,
            "_view_module": "@jupyter-widgets/base",
            "_view_module_version": "1.2.0",
            "_view_name": "StyleView",
            "description_width": ""
          }
        },
        "e0288ae0d4e04945a0999d0e4795d3d8": {
          "model_module": "@jupyter-widgets/controls",
          "model_module_version": "1.5.0",
          "model_name": "HTMLModel",
          "state": {
            "_dom_classes": [],
            "_model_module": "@jupyter-widgets/controls",
            "_model_module_version": "1.5.0",
            "_model_name": "HTMLModel",
            "_view_count": null,
            "_view_module": "@jupyter-widgets/controls",
            "_view_module_version": "1.5.0",
            "_view_name": "HTMLView",
            "description": "",
            "description_tooltip": null,
            "layout": "IPY_MODEL_5bc6669d4fcd42c39aecef1991a1265c",
            "placeholder": "​",
            "style": "IPY_MODEL_f16178ed711744c3973c92085aef514e",
            "value": " 138/200 [00:37&lt;00:16,  3.85it/s]"
          }
        },
        "f16178ed711744c3973c92085aef514e": {
          "model_module": "@jupyter-widgets/controls",
          "model_module_version": "1.5.0",
          "model_name": "DescriptionStyleModel",
          "state": {
            "_model_module": "@jupyter-widgets/controls",
            "_model_module_version": "1.5.0",
            "_model_name": "DescriptionStyleModel",
            "_view_count": null,
            "_view_module": "@jupyter-widgets/base",
            "_view_module_version": "1.2.0",
            "_view_name": "StyleView",
            "description_width": ""
          }
        },
        "f99977f4d3da4d53a43ecda5e82afaf4": {
          "model_module": "@jupyter-widgets/controls",
          "model_module_version": "1.5.0",
          "model_name": "HTMLModel",
          "state": {
            "_dom_classes": [],
            "_model_module": "@jupyter-widgets/controls",
            "_model_module_version": "1.5.0",
            "_model_name": "HTMLModel",
            "_view_count": null,
            "_view_module": "@jupyter-widgets/controls",
            "_view_module_version": "1.5.0",
            "_view_name": "HTMLView",
            "description": "",
            "description_tooltip": null,
            "layout": "IPY_MODEL_761d92b9b05644df915bd17df4584731",
            "placeholder": "​",
            "style": "IPY_MODEL_d92d95c40d68427dbb0811facdb99f9a",
            "value": " 69%"
          }
        }
      }
    }
  },
  "nbformat": 4,
  "nbformat_minor": 0
}